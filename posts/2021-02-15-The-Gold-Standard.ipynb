{
 "cells": [
  {
   "cell_type": "raw",
   "metadata": {},
   "source": [
    "---\n",
    "aliases:\n",
    "- /PyMC3/2021/02/15/The-Gold-Standard\n",
    "badges: true\n",
    "categories:\n",
    "- PyMC3\n",
    "date: '2021-02-15'\n",
    "description: Can we use bayesian analysis to compute the relative effectiveness of\n",
    "  Hotel Quarantine programmes?\n",
    "image: images/2021-02-15-The-Gold-Standard/header.png\n",
    "output-file: 2021-02-15-the-gold-standard.html\n",
    "title: The Gold Standard\n",
    "toc: true\n",
    "\n",
    "---\n",
    "\n"
   ]
  },
  {
   "attachments": {},
   "cell_type": "markdown",
   "metadata": {},
   "source": [
    "## The Context\n",
    "\n",
    "Australia has adopted an isolationist policy in response to the global coronavirus pandemic. Upon arriving in Australia, passengers are isolated in designated hotels for at least 14 days. While this process is highly effective, leaks can and do occur. Fortunately, these are regularly brought under control with effective contact tracing.\n",
    "\n",
    "There is much discussion about the effectiveness of different state systems for hotel quarantine, and it would be an interesting problem to model using Bayesian Analysis. Fortunately, there have been only a handful of leaks during processing of more than 100,000 people. As part of this modelling, I want to find the underlying leak probability for each processed person. We can estimate this probability independently for each state and use it to understand if there are any fundamental differences.\n",
    "\n",
    "\n",
    "## The Data\n",
    "To keep things simple, I'm defining \"leak\" as COVID spreading unintendedly. IE, to a staff member in the system, or someone being separately isolated.\n",
    "\n",
    "Based on some quick perusing of ABC news, I've formed a rough list of 13 separate leaks from hotel quarantine. \n",
    "\n",
    "NSW:\n",
    "* Marriott Hotel at Circular Quay - August 2020\n",
    "* Northern Beaches - December 2020\n",
    "* Cleaner - December 2020\n",
    "* Berala BWS - December 2020\n",
    "* Bus Driver - December 2020\n",
    "* Sofitel - February 2021 (Not yet confirmed to be a leak, but included for conservatism).\n",
    "\n",
    "\n",
    "Victoria:\n",
    "* Rydges on Swanston - May 2020\n",
    "* Stamford Plaza - June 2020\n",
    "* Park Royal hotel - January 2021\n",
    "* Grand Hyatt - February 2021\n",
    "* Holiday Inn - February 2021\n",
    "\n",
    "And one each in:\n",
    "* SA\n",
    "* QLD\n",
    "* WA\n",
    "\n",
    "\n",
    "\n",
    "I've formed an estimate for the number of people who passed through the hotel quarantine system from the [ABS](https://www.abs.gov.au/statistics/industry/tourism-and-transport/overseas-arrivals-and-departures-australia).\n",
    "\n",
    "I'm glad to re-run the numbers if you have more accurate figures for either leaks or arrivals.\n",
    "\n",
    "\n",
    "| State | Arrivals |\n",
    "|-------|----------|\n",
    "| NSW   | 91,400   |\n",
    "| VIC   | 26,710   |\n",
    "| QLD   | 23,830   |\n",
    "| SA    | 5,510    |\n",
    "| WA    | 16,740   |\n",
    "\n",
    "\n",
    "One argument is that there isn't enough data to compare the states or that certain states have been \"lucky\" or \"unlucky\". Using Bayesian Analysis, we can understand how confident we can be in our estimates of our underlying parameters (probability of a leak per person processed).\n",
    "\n",
    "\n",
    "## The Model\n",
    "Let's get started modelling by first importing what we need:"
   ]
  },
  {
   "cell_type": "code",
   "execution_count": 1,
   "metadata": {
    "vscode": {
     "languageId": "python"
    }
   },
   "outputs": [],
   "source": [
    "import pymc3 as pm\n",
    "import matplotlib.pyplot as plt\n",
    "import seaborn as sns\n",
    "import pandas as pd\n",
    "\n",
    "plt.rcParams[\"figure.figsize\"] = (20,20)\n",
    "from warnings import filterwarnings\n",
    "filterwarnings('ignore')"
   ]
  },
  {
   "attachments": {},
   "cell_type": "markdown",
   "metadata": {},
   "source": [
    "We can build a simple but effective model by treating the number of leaks as a *binomial* variable.\n",
    "\n",
    "We can then infer the probability each processed person results in a leak based on the number of people processed and the number of leaks observed.\n",
    "\n",
    "We need to provide a prior estimate for the probability of processing any one person resulting in a leak. 1% of people returning have covid, and 1% of them will result in a leak, for a *probability of leak* of 0.0001. However, I will use a very broad, non-informative prior estimate that is uniform between 0 and 1."
   ]
  },
  {
   "cell_type": "code",
   "execution_count": 2,
   "metadata": {
    "vscode": {
     "languageId": "python"
    }
   },
   "outputs": [],
   "source": [
    "with pm.Model() as model: \n",
    "    #Set up our model\n",
    "    states = ['NSW', 'VIC', 'QLD', 'SA', 'WA']\n",
    "    number_of_people_processed = [91400, 26710, 23830, 5510, 16740]\n",
    "    number_of_leaks_observed = [6, 5, 1, 1, 1]\n",
    "    prob_of_leak = pm.Uniform('prob_of_leak',lower=0, upper=1, shape=5)  \n",
    "    number_of_leaks = pm.Binomial('number_of_leaks', n = number_of_people_processed, p = prob_of_leak, observed = number_of_leaks_observed)"
   ]
  },
  {
   "attachments": {},
   "cell_type": "markdown",
   "metadata": {},
   "source": [
    "Now we can use *Markov Chain Monte Carlo* (MCMC) to find the distribution of the underlying parameter (*p*). We are trying to find the distribution of values for *p*, where it \"makes sense\", given the data we have observed and our prior estimate."
   ]
  },
  {
   "cell_type": "code",
   "execution_count": 3,
   "metadata": {
    "vscode": {
     "languageId": "python"
    }
   },
   "outputs": [
    {
     "name": "stderr",
     "output_type": "stream",
     "text": [
      "Auto-assigning NUTS sampler...\n",
      "Initializing NUTS using jitter+adapt_diag...\n",
      "Multiprocess sampling (2 chains in 4 jobs)\n",
      "NUTS: [prob_of_leak]\n"
     ]
    },
    {
     "data": {
      "text/html": [
       "\n",
       "    <div>\n",
       "        <style>\n",
       "            /* Turns off some styling */\n",
       "            progress {\n",
       "                /* gets rid of default border in Firefox and Opera. */\n",
       "                border: none;\n",
       "                /* Needs to be in here for Safari polyfill so background images work as expected. */\n",
       "                background-size: auto;\n",
       "            }\n",
       "            .progress-bar-interrupted, .progress-bar-interrupted::-webkit-progress-bar {\n",
       "                background: #F44336;\n",
       "            }\n",
       "        </style>\n",
       "      <progress value='12000' class='' max='12000' style='width:300px; height:20px; vertical-align: middle;'></progress>\n",
       "      100.00% [12000/12000 00:05<00:00 Sampling 2 chains, 0 divergences]\n",
       "    </div>\n",
       "    "
      ],
      "text/plain": [
       "<IPython.core.display.HTML object>"
      ]
     },
     "metadata": {},
     "output_type": "display_data"
    },
    {
     "name": "stderr",
     "output_type": "stream",
     "text": [
      "Sampling 2 chains for 5_000 tune and 1_000 draw iterations (10_000 + 2_000 draws total) took 11 seconds.\n"
     ]
    }
   ],
   "source": [
    "num_chains = 2\n",
    "num_samples = 1_000\n",
    "with model: \n",
    "    trace = pm.sample(draws=num_samples,chains = num_chains, tune=5_000)"
   ]
  },
  {
   "attachments": {},
   "cell_type": "markdown",
   "metadata": {},
   "source": [
    "The beauty of MCMC is that instead of giving us a point estimate for each parameter, we get a probability distribution, representing how confident we can be in each value. This means we can be more confident in our comparisons between different parameters.\n",
    "\n",
    "Let's visualise these distributions as boxplots using [Seaborn](https://seaborn.pydata.org/index.html). \n"
   ]
  },
  {
   "cell_type": "code",
   "execution_count": 4,
   "metadata": {
    "scrolled": true,
    "vscode": {
     "languageId": "python"
    }
   },
   "outputs": [
    {
     "data": {
      "image/png": "[encoded data removed]",
      "text/plain": [
       "<Figure size 1080x720 with 1 Axes>"
      ]
     },
     "metadata": {},
     "output_type": "display_data"
    }
   ],
   "source": [
    "#Create a pandas dataframe.\n",
    "state_col = []\n",
    "prob_of_leak_col = []\n",
    "for i in range(0,5):\n",
    "    state = states[i]\n",
    "    prob_of_leak = trace.prob_of_leak[:,i]\n",
    "    state_col += num_chains*num_samples*[state]\n",
    "    prob_of_leak_col += list(prob_of_leak)\n",
    "    \n",
    "data = {'State':state_col,'prob_of_leak':prob_of_leak_col}\n",
    "df =  pd.DataFrame.from_dict(data)\n",
    "\n",
    "\n",
    "#Visualise the data.\n",
    "sns.set_theme(style=\"ticks\")\n",
    "f, ax = plt.subplots(figsize=(15, 10))\n",
    "\n",
    "ax.set_xscale(\"log\")\n",
    "\n",
    "sns.boxplot(x=\"prob_of_leak\", y=\"State\", data=df, whis=[5, 95], width=0.7,\n",
    "            palette=\"vlag\", flierprops = dict(markerfacecolor = '0.50', markersize = 1))\n",
    "\n",
    "\n",
    "# Tweak the visual presentation\n",
    "ax.xaxis.grid(True)\n",
    "ax.set(ylabel=\"\")\n",
    "ax.set(xlabel=\"Probability of leak per person processed\")\n",
    "ax.set_xlim(10**-5,10**-3)\n",
    "ax.set(title=\"Comparative probablity of leak by state\")\n",
    "\n",
    "sns.despine(trim=True, left=True)"
   ]
  },
  {
   "attachments": {},
   "cell_type": "markdown",
   "metadata": {},
   "source": [
    "## Conclusion\n",
    "We can see that there are two clusters of states.\n",
    "\n",
    "* NSW, QLD and WA all have rates of leakage below 1 in 10,000\n",
    "* VIC and SA, where the rate is 2-3 times higher.\n",
    "\n",
    "NSW, in particular, has a relative risk of approximately 2.9 times lower than VIC.\n",
    "\n",
    "Using Bayesian Analysis, we can be confident that there might be underlying differences in the effectiveness of different hotel quarantine programmes. We could use this to learn from those representing the *Gold Standard*."
   ]
  }
 ],
 "metadata": {
  "kernelspec": {
   "display_name": "PyMC3",
   "language": "python",
   "name": "pymc3"
  }
 },
 "nbformat": 4,
 "nbformat_minor": 4
}
