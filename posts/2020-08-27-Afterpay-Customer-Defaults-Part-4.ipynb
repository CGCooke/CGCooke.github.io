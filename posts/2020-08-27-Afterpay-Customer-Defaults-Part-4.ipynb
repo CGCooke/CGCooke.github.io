{
 "cells": [
  {
   "cell_type": "raw",
   "metadata": {},
   "source": [
    "---\n",
    "aliases:\n",
    "- /Afterpay/Bayesian/Finance/Monte Carlo Simulation/PyMC3/2020/08/27/Afterpay-Customer-Defaults-Part-4\n",
    "badges: true\n",
    "categories:\n",
    "- Bayesian\n",
    "- PyMC3\n",
    "- Finance\n",
    "- Monte Carlo Simulation\n",
    "- Afterpay\n",
    "date: '2020-08-27'\n",
    "description: Afterpay has just released its 2020 annual report, and it includes two\n",
    "  new and exciting pieces of information.\n",
    "image: images/2020-08-27-Afterpay-Customer-Defaults-Part-4/header.png\n",
    "output-file: 2020-08-27-afterpay-customer-defaults-part-4.html\n",
    "title: How often do Afterpay transactions attract late fees? (Part 4)\n",
    "toc: true\n",
    "\n",
    "---\n",
    "\n"
   ]
  },
  {
   "attachments": {},
   "cell_type": "markdown",
   "metadata": {},
   "source": [
    "## Introduction\n",
    "\n",
    "*Afterpay* has just released its [FY20 Annual Results](https://www.afterpay.com/attachment/245/show). I've had a quick skim through it, and two statistics caught my eye.\n",
    "\n",
    "![Late Fees](../images/2020-08-27-Afterpay-Customer-Defaults-Part-4/late_fees.png)\n",
    "\n",
    "This is precisely the information we tried to infer over the last couple of posts, and now we have some actual ground truth to compare!\n",
    "\n",
    "At the end of the [last post](https://cgcooke.github.io/Blog/bayesian/pymc3/finance/monte%20carlo%20simulation/afterpay/2020/08/22/Afterpay-Customer-Defaults-Part-3.html), I finished by saying: \"We find that between 3 and 12% of transactions are attracting late fees. Overall, our best estimate is 7%.\" Hence I'm pretty happy that the actual value of ±10% is within the bounds of what we expected. \n",
    "\n",
    "Now let's take this new information and try to infer more about our model's underlying, unobserved parameters.\n",
    "\n",
    ":::{.callout-important}\n",
    "\n",
    "Obviously, I need a disclaimer. If you use anything I say as the basis for any decision, financial or otherwise, you are an idiot.\n",
    "\n",
    ":::"
   ]
  },
  {
   "attachments": {},
   "cell_type": "markdown",
   "metadata": {},
   "source": [
    "Let's think about this at a high level.\n",
    "\n",
    "We now know that approximately 10% of purchases had one or more late payments.\n",
    "This 10% of purchases represent about 10% of payments.\n",
    "Hence, about 30% (±5% points) of payments are late within this cohort.\n",
    "\n",
    "There are four payments, at least one of which is late.\n",
    "\n",
    "\n",
    "## The Model\n",
    "\n",
    "Let's model this out in code; the variable names get pretty verbose!\n",
    "\n",
    "In the case of both \"percentage_of_purchases_incuring_late_fees\" and \"ercentage_of_all_transactions_incuring_late_fees\", I'm modelling them as a *uniform* distribution. This is because *Afterpay* is rounding both of them to the nearest integer.\n"
   ]
  },
  {
   "cell_type": "code",
   "execution_count": 10,
   "metadata": {
    "vscode": {
     "languageId": "python"
    }
   },
   "outputs": [],
   "source": [
    "%matplotlib inline\n",
    "import pymc3 as pm\n",
    "import matplotlib.pyplot as plt\n",
    "import numpy as np\n",
    "import math\n",
    "import seaborn as sns\n",
    "import scipy.stats as st\n",
    "\n",
    "plt.rcParams[\"figure.figsize\"] = (10,10)\n",
    "from warnings import filterwarnings\n",
    "filterwarnings('ignore')"
   ]
  },
  {
   "cell_type": "code",
   "execution_count": 2,
   "metadata": {
    "vscode": {
     "languageId": "python"
    }
   },
   "outputs": [],
   "source": [
    "with pm.Model() as model:\n",
    "    percentage_of_purchases_incuring_late_fees = pm.Uniform('percentage_of_purchases_incuring_late_fees', lower=9.5, upper=10.49)\n",
    "    percentage_of_all_transactions_incuring_late_fees = pm.Uniform('percentage_of_all_transactions_incuring_late_fees', lower=2.5, upper = 3.49)\n",
    "    percentage_of_late_purchase_transactions_incuring_late_fees =  pm.Deterministic('percentage_of_late_purchase_transactions_incuring_late_fees', 100 * percentage_of_all_transactions_incuring_late_fees / percentage_of_purchases_incuring_late_fees)\n",
    "    average_num_late_purchase_transactions_incuring_late_fees = pm.Deterministic('average_num_late_purchase_transactions_incuring_late_fees',4 * percentage_of_late_purchase_transactions_incuring_late_fees / 100)"
   ]
  },
  {
   "attachments": {},
   "cell_type": "markdown",
   "metadata": {},
   "source": [
    "Looking at the graph, we can see that the two pieces of information we have provided are used to create a distribution of \"percentage_of_late_purchase_transactions_incuring_late_fees\"."
   ]
  },
  {
   "cell_type": "code",
   "execution_count": 6,
   "metadata": {
    "vscode": {
     "languageId": "python"
    }
   },
   "outputs": [
    {
     "data": {
      "image/svg+xml": "<?xml version=\"1.0\" encoding=\"UTF-8\" standalone=\"no\"?>\n<!DOCTYPE svg PUBLIC \"-//W3C//DTD SVG 1.1//EN\"\n \"http://www.w3.org/Graphics/SVG/1.1/DTD/svg11.dtd\">\n<!-- Generated by graphviz version 2.42.3 (20191010.1750)\n -->\n<!-- Title: %3 Pages: 1 -->\n<svg width=\"638pt\" height=\"188pt\"\n viewBox=\"0.00 0.00 637.78 188.00\" xmlns=\"http://www.w3.org/2000/svg\" xmlns:xlink=\"http://www.w3.org/1999/xlink\">\n<g id=\"graph0\" class=\"graph\" transform=\"scale(1 1) rotate(0) translate(4 184)\">\n<title>%3</title>\n<polygon fill=\"white\" stroke=\"transparent\" points=\"-4,4 -4,-184 633.78,-184 633.78,4 -4,4\"/>\n<!-- average_num_late_purchase_transactions_incuring_late_fees -->\n<g id=\"node1\" class=\"node\">\n<title>average_num_late_purchase_transactions_incuring_late_fees</title>\n<polygon fill=\"none\" stroke=\"black\" points=\"484.32,-36 33.49,-36 33.49,0 484.32,0 484.32,-36\"/>\n<text text-anchor=\"middle\" x=\"258.9\" y=\"-13.8\" font-family=\"Times,serif\" font-size=\"14.00\">average_num_late_purchase_transactions_incuring_late_fees ~ Deterministic</text>\n</g>\n<!-- late_fees_rev -->\n<g id=\"node2\" class=\"node\">\n<title>late_fees_rev</title>\n<ellipse fill=\"none\" stroke=\"black\" cx=\"96.9\" cy=\"-162\" rx=\"96.81\" ry=\"18\"/>\n<text text-anchor=\"middle\" x=\"96.9\" y=\"-157.8\" font-family=\"Times,serif\" font-size=\"14.00\">late_fees_rev ~ Uniform</text>\n</g>\n<!-- percentage_of_late_purchase_transactions_incuring_late_fees -->\n<g id=\"node4\" class=\"node\">\n<title>percentage_of_late_purchase_transactions_incuring_late_fees</title>\n<polygon fill=\"none\" stroke=\"black\" points=\"486.19,-108 31.62,-108 31.62,-72 486.19,-72 486.19,-108\"/>\n<text text-anchor=\"middle\" x=\"258.9\" y=\"-85.8\" font-family=\"Times,serif\" font-size=\"14.00\">percentage_of_late_purchase_transactions_incuring_late_fees ~ Deterministic</text>\n</g>\n<!-- late_fees_rev&#45;&gt;percentage_of_late_purchase_transactions_incuring_late_fees -->\n<g id=\"edge1\" class=\"edge\">\n<title>late_fees_rev&#45;&gt;percentage_of_late_purchase_transactions_incuring_late_fees</title>\n<path fill=\"none\" stroke=\"black\" d=\"M133.26,-145.29C156.01,-135.46 185.59,-122.68 210.33,-111.99\"/>\n<polygon fill=\"black\" stroke=\"black\" points=\"211.76,-115.18 219.55,-108 208.99,-108.76 211.76,-115.18\"/>\n</g>\n<!-- percentage_of_purchases_incuring_late_fees -->\n<g id=\"node3\" class=\"node\">\n<title>percentage_of_purchases_incuring_late_fees</title>\n<ellipse fill=\"none\" stroke=\"black\" cx=\"420.9\" cy=\"-162\" rx=\"208.76\" ry=\"18\"/>\n<text text-anchor=\"middle\" x=\"420.9\" y=\"-157.8\" font-family=\"Times,serif\" font-size=\"14.00\">percentage_of_purchases_incuring_late_fees ~ Uniform</text>\n</g>\n<!-- percentage_of_purchases_incuring_late_fees&#45;&gt;percentage_of_late_purchase_transactions_incuring_late_fees -->\n<g id=\"edge2\" class=\"edge\">\n<title>percentage_of_purchases_incuring_late_fees&#45;&gt;percentage_of_late_purchase_transactions_incuring_late_fees</title>\n<path fill=\"none\" stroke=\"black\" d=\"M382.1,-144.23C359.79,-134.59 331.55,-122.39 307.74,-112.1\"/>\n<polygon fill=\"black\" stroke=\"black\" points=\"309.08,-108.87 298.52,-108.12 306.31,-115.3 309.08,-108.87\"/>\n</g>\n<!-- percentage_of_late_purchase_transactions_incuring_late_fees&#45;&gt;average_num_late_purchase_transactions_incuring_late_fees -->\n<g id=\"edge3\" class=\"edge\">\n<title>percentage_of_late_purchase_transactions_incuring_late_fees&#45;&gt;average_num_late_purchase_transactions_incuring_late_fees</title>\n<path fill=\"none\" stroke=\"black\" d=\"M258.9,-71.7C258.9,-63.98 258.9,-54.71 258.9,-46.11\"/>\n<polygon fill=\"black\" stroke=\"black\" points=\"262.41,-46.1 258.9,-36.1 255.41,-46.1 262.41,-46.1\"/>\n</g>\n</g>\n</svg>\n",
      "text/plain": [
       "<graphviz.dot.Digraph at 0x1a1512aed0>"
      ]
     },
     "execution_count": 6,
     "metadata": {},
     "output_type": "execute_result"
    }
   ],
   "source": [
    "pm.model_to_graphviz(model)"
   ]
  },
  {
   "cell_type": "markdown",
   "metadata": {},
   "source": [
    "Now we can draw samples from our model."
   ]
  },
  {
   "cell_type": "code",
   "execution_count": 3,
   "metadata": {
    "vscode": {
     "languageId": "python"
    }
   },
   "outputs": [],
   "source": [
    "with model:\n",
    "    samples = pm.sample_prior_predictive(samples=50_000, random_seed=0)"
   ]
  },
  {
   "attachments": {},
   "cell_type": "markdown",
   "metadata": {},
   "source": [
    "## Results\n",
    "\n",
    "### Average late payments per purchase\n",
    "\n",
    "We can now visualise the distribution of the number of late transactions per purchase, given that there are one or more late fees. Because we have considered the rounding, our model shows that sometimes there is less than one late payment per purchase. This is impossible in practice!"
   ]
  },
  {
   "cell_type": "code",
   "execution_count": 4,
   "metadata": {
    "vscode": {
     "languageId": "python"
    }
   },
   "outputs": [
    {
     "data": {
      "image/png": "[encoded data removed]",
      "text/plain": [
       "<Figure size 720x720 with 1 Axes>"
      ]
     },
     "metadata": {
      "needs_background": "light"
     },
     "output_type": "display_data"
    }
   ],
   "source": [
    "samples = samples['average_num_late_purchase_transactions_incuring_late_fees']\n",
    "\n",
    "sns.distplot(samples,bins=np.arange(0.75,1.75,0.01),kde=False,norm_hist=True)\n",
    "plt.xlabel('Average number of late payments per purchase')\n",
    "plt.ylabel('Relative Frequency')\n",
    "plt.show()"
   ]
  },
  {
   "cell_type": "markdown",
   "metadata": {},
   "source": [
    "### Binomial assumption\n",
    "\n",
    "Finally, we can make one last modelling assumption to help. \n",
    "\n",
    "Given that one of the four payments was late, we might assume that each of the three is equally and independently likely to be late. IE, we use the *Binomial* distribution to model late payments.\n",
    "\n",
    "Binomial($n$,$p$), where $n$ is 3, and we want to find $p$.\n",
    "\n",
    "Given the mean of this distribution is $n\\times p$, we can find $p = \\frac{(samples - 1)}{3}$.\n"
   ]
  },
  {
   "cell_type": "code",
   "execution_count": null,
   "metadata": {
    "vscode": {
     "languageId": "python"
    }
   },
   "outputs": [],
   "source": [
    "probability_of_late_payment_per_payment = 100 * (samples - 1) /3.0"
   ]
  },
  {
   "attachments": {},
   "cell_type": "markdown",
   "metadata": {},
   "source": [
    "Putting this all together, we can now find a distribution for $p$.\n",
    "\n",
    "I'm also going to fit a *Beta* distribution to it so I can draw samples from it in the next post."
   ]
  },
  {
   "cell_type": "code",
   "execution_count": 36,
   "metadata": {
    "vscode": {
     "languageId": "python"
    }
   },
   "outputs": [
    {
     "name": "stdout",
     "output_type": "stream",
     "text": [
      "Alpha: 1.3447, Beta: 1.7199, Location: -0.0142, Scale: 15.5965\n"
     ]
    }
   ],
   "source": [
    "probability_of_late_payment_per_payment = probability_of_late_payment_per_payment[np.where(probability_of_late_payment_per_payment>0)]\n",
    "\n",
    "a1, b1, loc1, scale1  = st.beta.fit(probability_of_late_payment_per_payment)\n",
    "print('Alpha: {:0.4f}, Beta: {:0.4f}, Location: {:0.4f}, Scale: {:0.4f}'.format(a1, b1, loc1, scale1 ))"
   ]
  },
  {
   "cell_type": "markdown",
   "metadata": {},
   "source": [
    "Let's also visualise the distribution and the fitted *Beta* distribution."
   ]
  },
  {
   "cell_type": "code",
   "execution_count": 37,
   "metadata": {
    "vscode": {
     "languageId": "python"
    }
   },
   "outputs": [
    {
     "data": {
      "image/png": "[encoded data removed]",
      "text/plain": [
       "<Figure size 720x720 with 1 Axes>"
      ]
     },
     "metadata": {
      "needs_background": "light"
     },
     "output_type": "display_data"
    }
   ],
   "source": [
    "sns.distplot(probability_of_late_payment_per_payment,fit=st.beta, bins=np.arange(0,20),kde=False,norm_hist=True)\n",
    "plt.xlabel('Probability of late payment for each payment (%)')\n",
    "plt.ylabel('Relative Frequency')\n",
    "plt.show()"
   ]
  },
  {
   "cell_type": "code",
   "execution_count": 23,
   "metadata": {
    "vscode": {
     "languageId": "python"
    }
   },
   "outputs": [
    {
     "name": "stderr",
     "output_type": "stream",
     "text": [
      "arviz.stats.stats_utils - WARNING - Shape validation failed: input_shape: (1, 48482), minimum_shape: (chains=2, draws=4)\n"
     ]
    },
    {
     "data": {
      "text/html": [
       "<div>\n",
       "<style scoped>\n",
       "    .dataframe tbody tr th:only-of-type {\n",
       "        vertical-align: middle;\n",
       "    }\n",
       "\n",
       "    .dataframe tbody tr th {\n",
       "        vertical-align: top;\n",
       "    }\n",
       "\n",
       "    .dataframe thead th {\n",
       "        text-align: right;\n",
       "    }\n",
       "</style>\n",
       "<table border=\"1\" class=\"dataframe\">\n",
       "  <thead>\n",
       "    <tr style=\"text-align: right;\">\n",
       "      <th></th>\n",
       "      <th>mean</th>\n",
       "      <th>sd</th>\n",
       "      <th>hpd_3%</th>\n",
       "      <th>hpd_97%</th>\n",
       "      <th>mcse_mean</th>\n",
       "      <th>mcse_sd</th>\n",
       "      <th>ess_mean</th>\n",
       "      <th>ess_sd</th>\n",
       "      <th>ess_bulk</th>\n",
       "      <th>ess_tail</th>\n",
       "      <th>r_hat</th>\n",
       "    </tr>\n",
       "  </thead>\n",
       "  <tbody>\n",
       "    <tr>\n",
       "      <th>x</th>\n",
       "      <td>6.898</td>\n",
       "      <td>3.844</td>\n",
       "      <td>0.051</td>\n",
       "      <td>12.912</td>\n",
       "      <td>0.018</td>\n",
       "      <td>0.012</td>\n",
       "      <td>47746.0</td>\n",
       "      <td>47746.0</td>\n",
       "      <td>47675.0</td>\n",
       "      <td>48623.0</td>\n",
       "      <td>NaN</td>\n",
       "    </tr>\n",
       "  </tbody>\n",
       "</table>\n",
       "</div>"
      ],
      "text/plain": [
       "    mean     sd  hpd_3%  hpd_97%  mcse_mean  mcse_sd  ess_mean   ess_sd  \\\n",
       "x  6.898  3.844   0.051   12.912      0.018    0.012   47746.0  47746.0   \n",
       "\n",
       "   ess_bulk  ess_tail  r_hat  \n",
       "x   47675.0   48623.0    NaN  "
      ]
     },
     "execution_count": 23,
     "metadata": {},
     "output_type": "execute_result"
    }
   ],
   "source": [
    "pm.summary(probability_of_late_payment_per_payment)"
   ]
  },
  {
   "attachments": {},
   "cell_type": "markdown",
   "metadata": {},
   "source": [
    "## Conclusion\n",
    "\n",
    "Based on what *Afterpay* has publicly released, we now have a more concrete perspective on how often people pay late.\n",
    "\n",
    "Interestingly, while there is a ±10% chance of someone having at least one late payment on any given purchase, the probability of any subsequent individual payment being late is relatively low. It's at most ±13%, with the best estimate of 7%. "
   ]
  }
 ],
 "metadata": {
  "kernelspec": {
   "display_name": "PyMC3",
   "language": "python",
   "name": "pymc3"
  }
 },
 "nbformat": 4,
 "nbformat_minor": 2
}
