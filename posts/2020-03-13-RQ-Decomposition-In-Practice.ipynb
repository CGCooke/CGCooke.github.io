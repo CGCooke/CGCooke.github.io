{
 "cells": [
  {
   "cell_type": "raw",
   "metadata": {},
   "source": [
    "---\n",
    "aliases:\n",
    "- /Computer Vision/Linear Algebra/2020/03/13/RQ-Decomposition-In-Practice\n",
    "badges: true\n",
    "categories:\n",
    "- Computer Vision\n",
    "- Linear Algebra\n",
    "date: '2020-03-13'\n",
    "description: How to use RQ Decomposition to recover your camera's K, R and C matrices.\n",
    "image: images/2020-03-13-RQ-Decomposition-In-Practice/header.jpg\n",
    "output-file: 2020-03-13-rq-decomposition-in-practice.html\n",
    "title: RQ Decomposition In Practice\n",
    "toc: true\n",
    "\n",
    "---\n",
    "\n"
   ]
  },
  {
   "cell_type": "markdown",
   "metadata": {},
   "source": [
    "Let's keep things short and sweet.\n",
    "\n",
    "Given a camera projection matrix, $P$, we can decompose it into a $K$ (Camera Matrix), $R$ (Rotation Matrix) and $C$ (Camera Centroid) matrix.\n",
    "\n",
    "IE, given we have  $P = K[R|-RC]$, We want to find $K$, $R$ and $C$.\n",
    "\n",
    "The method is described in *Multiple View Geometry in Computer Vision (Second Edition)*, on page 163; however, let's turn it into a practical *Python* implementation.\n",
    "\n",
    "Let's follow along with an example from the book."
   ]
  },
  {
   "cell_type": "code",
   "execution_count": 1,
   "metadata": {},
   "outputs": [],
   "source": [
    "import numpy as np\n",
    "import scipy.linalg\n",
    "np.set_printoptions(precision=2)"
   ]
  },
  {
   "cell_type": "code",
   "execution_count": 2,
   "metadata": {},
   "outputs": [],
   "source": [
    "P = np.array([[3.53553e+2,  3.39645e+2, 2.77744e+2, -1.44946e+6],\n",
    "              [-1.03528e+2, 2.33212e+1, 4.59607e+2, -6.3252e+5],\n",
    "              [7.07107e-1, -3.53553e-1, 6.12372e-1, -9.18559e+2]])"
   ]
  },
  {
   "cell_type": "markdown",
   "metadata": {},
   "source": [
    "So, we have: $P = [M | −MC]$\n",
    "\n",
    "M can be decomposed as $M=KR$ using the RQ decomposition.\n",
    "\n",
    "```python\n",
    "M = P[0:3,0:3]\n",
    "K, R = linalg.rq(M)\n",
    "```\n",
    "\n",
    "So far, so good.\n",
    "\n",
    "Now things get a little more complex. \n",
    "\n",
    "We want to find a Camera matrix with a positive diagonal, giving positive focal lengths.\n",
    "\n",
    "However, if this doesn't happen, we can adjust the sign of each column for both the $K$ and $R$ matrix to \"Make it so\".\n",
    "\n",
    "\n",
    "\n",
    "```python\n",
    "T = np.diag(np.sign(np.diag(K)))\n",
    "if linalg.det(T) < 0:\n",
    "    T[1,1] *= -1\n",
    "\n",
    "K = np.dot(K,T)\n",
    "R = np.dot(T,R)\n",
    "```\n",
    "\n",
    "    \n",
    "Finally, we can find the Camera Center ($C$).\n",
    "\n",
    "We have $P_4$, the 4th column of $P$.\n",
    "\n",
    "\n",
    "$P_4 = −MC$\n",
    "\n",
    "\n",
    "From this, we can find $C = {-M}^{-1} P_4$"
   ]
  },
  {
   "cell_type": "code",
   "execution_count": 3,
   "metadata": {},
   "outputs": [
    {
     "name": "stdout",
     "output_type": "stream",
     "text": [
      "K\n",
      "[[468.16  91.23 300.  ]\n",
      " [  0.   427.2  200.  ]\n",
      " [  0.     0.     1.  ]]\n",
      "R\n",
      "[[ 0.41  0.91  0.05]\n",
      " [-0.57  0.22  0.79]\n",
      " [ 0.71 -0.35  0.61]]\n",
      "C\n",
      "[1000.01 2000.   1499.99]\n"
     ]
    }
   ],
   "source": [
    "def factorize(P):\n",
    "    M = P[:,0:3]\n",
    "    \n",
    "    K,R = scipy.linalg.rq(M)\n",
    "    \n",
    "    T = np.diag(np.sign(np.diag(K)))\n",
    "    \n",
    "    if scipy.linalg.det(T) < 0:\n",
    "        T[1,1] *= -1\n",
    "    \n",
    "    K = np.dot(K,T)\n",
    "    R = np.dot(T,R)\n",
    "    \n",
    "    C = np.dot(scipy.linalg.inv(-M),P[:,3])\n",
    "    return(K,R,C)\n",
    "\n",
    "\n",
    "    \n",
    "K,R,C = factorize(P)\n",
    "\n",
    "print('K')\n",
    "print(K)\n",
    "\n",
    "print('R')\n",
    "print(R)\n",
    "\n",
    "print('C')\n",
    "print(C)"
   ]
  },
  {
   "cell_type": "markdown",
   "metadata": {},
   "source": [
    "Voilà!"
   ]
  },
  {
   "cell_type": "markdown",
   "metadata": {},
   "source": [
    "[This](https://www.uio.no/studier/emner/matnat/its/nedlagte-emner/UNIK4690/v17/forelesninger/lecture_5_2_pose_from_known_3d_points.pdf) presentation is a great read and provides a good overview of the RQ and QR decompositions."
   ]
  }
 ],
 "metadata": {
  "kernelspec": {
   "display_name": "PyMC3",
   "language": "python",
   "name": "pymc3"
  },
  "language_info": {
   "codemirror_mode": {
    "name": "ipython",
    "version": 3
   },
   "file_extension": ".py",
   "mimetype": "text/x-python",
   "name": "python",
   "nbconvert_exporter": "python",
   "pygments_lexer": "ipython3",
   "version": "3.9.2"
  }
 },
 "nbformat": 4,
 "nbformat_minor": 2
}
