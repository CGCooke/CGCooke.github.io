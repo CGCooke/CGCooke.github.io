{
 "cells": [
  {
   "cell_type": "raw",
   "metadata": {},
   "source": [
    "---\n",
    "aliases:\n",
    "- /Datashader/PUBG/Visualisation/2020/05/31/Visualising-PUBG-Deaths-With-Datashader\n",
    "badges: true\n",
    "categories:\n",
    "- Datashader\n",
    "- Visualisation\n",
    "- PUBG\n",
    "date: '2020-05-31'\n",
    "description: Let's use Datashader to understand some of the gameplay mechanics of\n",
    "  a hit video game while also making some abstract art.\n",
    "image: images/2020-05-31-Visualising-PUBG-Deaths-With-Datashader/header.jpg\n",
    "output-file: 2020-05-31-visualising-pubg-deaths-with-datashader.html\n",
    "title: Visualising PUBG Deaths with Datashader\n",
    "toc: true\n",
    "\n",
    "---\n",
    "\n"
   ]
  },
  {
   "cell_type": "markdown",
   "metadata": {},
   "source": [
    "While browsing Kaggle, I came across this interesting [dataset](https://www.kaggle.com/skihikingkevin/pubg-match-deaths/), and I thought it would form the basis for some exciting blog posts. \n",
    "\n",
    "The dataset contains 65M player deaths, from 720,000 different matches, from *PlayerUnknown's Battlegrounds* (PUBG), a wildly popular online game."
   ]
  },
  {
   "cell_type": "markdown",
   "metadata": {},
   "source": [
    "## An Introduction to PUBG\n",
    "\n",
    "Wikipedia sums up the aim of the game pretty well:\n",
    ">  \"In the game, up to one hundred players parachute onto an island and scavenge for weapons and equipment to kill others while avoiding getting killed themselves. The available safe area of the game's map decreases in size over time, directing surviving players into tighter areas to force encounters. The last player or team standing wins the round.\"\n",
    "\n",
    "But for something a bit less dry, but just as accurate, there is this [video](https://youtu.be/8c7RLtbFiJA) on Youtube."
   ]
  },
  {
   "cell_type": "markdown",
   "metadata": {},
   "source": [
    "## Data preprocessing\n",
    "\n",
    "First off, let's load some of the libraries we will later need."
   ]
  },
  {
   "cell_type": "code",
   "execution_count": 1,
   "metadata": {},
   "outputs": [
    {
     "name": "stderr",
     "output_type": "stream",
     "text": [
      "\n",
      "Bad key \"text.kerning_factor\" on line 4 in\n",
      "/opt/anaconda3/envs/PyMC3/lib/python3.7/site-packages/matplotlib/mpl-data/stylelib/_classic_test_patch.mplstyle.\n",
      "You probably need to get an updated matplotlibrc file from\n",
      "https://github.com/matplotlib/matplotlib/blob/v3.1.3/matplotlibrc.template\n",
      "or from the matplotlib source distribution\n"
     ]
    }
   ],
   "source": [
    "import glob\n",
    "import pandas as pd\n",
    "import datashader as ds\n",
    "import datashader.transfer_functions as tf\n",
    "import numpy as np\n",
    "import matplotlib.pyplot as plt\n",
    "plt.rcParams['figure.figsize'] = [15, 15]"
   ]
  },
  {
   "cell_type": "markdown",
   "metadata": {},
   "source": [
    "The [dataset](https://www.kaggle.com/skihikingkevin/pubg-match-deaths/) itself comes in several different .csv files, which we will load and concatenate. "
   ]
  },
  {
   "cell_type": "code",
   "execution_count": 2,
   "metadata": {},
   "outputs": [],
   "source": [
    "def load_deaths():\n",
    "    li = []\n",
    "    for filename in glob.glob(\"/Users/cooke_c/Documents/Blog_Staging/PUBG/9372_13466_bundle_archive/deaths/*.csv\"):\n",
    "        df = pd.read_csv(filename)\n",
    "        df = df.drop(['match_id','victim_placement','killed_by','killer_name','killer_placement','killer_position_x','killer_position_y','victim_name'],axis='columns')\n",
    "        li.append(df)\n",
    "    df = pd.concat(li, axis=0, ignore_index=True)\n",
    "    return(df)"
   ]
  },
  {
   "cell_type": "code",
   "execution_count": 3,
   "metadata": {},
   "outputs": [],
   "source": [
    "deaths_df = load_deaths()"
   ]
  },
  {
   "cell_type": "markdown",
   "metadata": {},
   "source": [
    "Matches in PUBG are limited in time to approximately 32.5 minutes. Let's create a new categorical variable called \"phase\". It will represent which of the following match phases a player died in:\n",
    "\n",
    "1. Early Phase (0-10m) (Lime Green points)\n",
    "2. Mid Phase (10-25m) (Cyan points)\n",
    "3. Late Phase (>25m) (Purple points)"
   ]
  },
  {
   "cell_type": "code",
   "execution_count": 4,
   "metadata": {},
   "outputs": [],
   "source": [
    "def create_phase_category(deaths_df):\n",
    "    conditions = [\n",
    "        (1*60<deaths_df.time) & (deaths_df.time<10*60),\n",
    "        (10*60<deaths_df.time) & (deaths_df.time<25*60),\n",
    "        (25*60<deaths_df.time)]\n",
    "\n",
    "    choices = ['early', 'mid', 'late']\n",
    "    deaths_df['phase'] = np.select(conditions, choices, default='very_early')\n",
    "    deaths_df['phase'] = deaths_df['phase'].astype('category')\n",
    "    \n",
    "    return(deaths_df)"
   ]
  },
  {
   "cell_type": "code",
   "execution_count": 5,
   "metadata": {},
   "outputs": [],
   "source": [
    "deaths_df = create_phase_category(deaths_df)"
   ]
  },
  {
   "cell_type": "markdown",
   "metadata": {},
   "source": [
    "## Datashader"
   ]
  },
  {
   "cell_type": "markdown",
   "metadata": {},
   "source": [
    "Now, this is where the fun begins.\n",
    "\n",
    "[Datashader](https://datashader.org/) is a highly efficient Python library for visualising a massive amount of data.\n",
    "\n",
    "Taking Pandas data frames as inputs, Datashader aggregates the data to form visualisations.\n",
    "\n",
    "There are three key components that we use to generate our visualisation:\n",
    "\n",
    "1.  Defining a canvas. It's going to be 4,000 by 4,000 pixels. The data range we want to visualise is 800,000 by 800,000. \n",
    "\n",
    "```python\n",
    "cvs = ds.Canvas(plot_width=4_000, plot_height=4_000, x_range=[0,800_000],y_range=[0,800_000])\n",
    "```\n",
    "\n",
    "2. We want to aggregate data from deaths_df, using the 'victim_position_x' variable as the x coordinate and 'victim_position_y' as the y coordinate. Effectively, we are computing a seperate 2D histogram for each category (game phase). \n",
    "```python\n",
    "agg = cvs.points(deaths_df, 'victim_position_x', 'victim_position_y',ds.count_cat('phase'))\n",
    "```\n",
    "\n",
    "3. We visualise our 2D histogram, coloring each bin/pixel according to our color map. We also use histogram equalization (how='eq_hist').\n",
    "```python\n",
    "img = tf.shade(agg, color_key=color_key, how='eq_hist')\n",
    "```\n",
    "\n",
    "This post is heavily inspired by this [example](https://examples.pyviz.org/census/census.html), which is more detailed about the pipeline involved.\n"
   ]
  },
  {
   "cell_type": "code",
   "execution_count": 6,
   "metadata": {},
   "outputs": [],
   "source": [
    "def visualise_with_datashader(deaths_df):\n",
    "    color_key = {'very_early':'black', 'early':'lime',  'mid':'aqua', 'late':'fuchsia'}\n",
    "    \n",
    "    cvs = ds.Canvas(plot_width=4_000, plot_height=4_000, x_range=[0,800_000],y_range=[0,800_000])\n",
    "    \n",
    "    agg = cvs.points(deaths_df,'victim_position_x','victim_position_y',ds.count_cat('phase'))\n",
    "    \n",
    "    img = tf.shade(agg, color_key=color_key, how='eq_hist')\n",
    "    img = tf.set_background(img,\"black\", name=\"Black bg\")\n",
    "    return(img)"
   ]
  },
  {
   "cell_type": "markdown",
   "metadata": {},
   "source": [
    "One minor detail is that we need to invert the y coordinates we want to render to match the coordinate system used for the game maps."
   ]
  },
  {
   "cell_type": "code",
   "execution_count": 7,
   "metadata": {},
   "outputs": [],
   "source": [
    "deaths_df.victim_position_y = 800_000 - deaths_df.victim_position_y"
   ]
  },
  {
   "cell_type": "markdown",
   "metadata": {},
   "source": [
    "## Erangel\n",
    "\n",
    "1. Early Phase (0-10m) (Lime Green points)\n",
    "2. Mid Phase (10-25m) (Cyan points)\n",
    "3. Late Phase (>25m) (Purple points)"
   ]
  },
  {
   "cell_type": "code",
   "execution_count": 8,
   "metadata": {
    "scrolled": false
   },
   "outputs": [
    {
     "name": "stdout",
     "output_type": "stream",
     "text": [
      "Total points : 52964245\n"
     ]
    }
   ],
   "source": [
    "erangel_df = deaths_df[deaths_df.map=='ERANGEL']\n",
    "\n",
    "num_points = erangel_df.shape[0]\n",
    "print(f'Total points : {num_points}')\n",
    "\n",
    "img = visualise_with_datashader(erangel_df)\n",
    "\n",
    "ds.utils.export_image(img=img,filename='Erangel', fmt=\".png\");"
   ]
  },
  {
   "cell_type": "markdown",
   "metadata": {},
   "source": [
    "![Erangel](../images/2020-05-31-Visualising-PUBG-Deaths-With-Datashader/Erangel_Shaded.jpg)\n",
    "![Erangel](../images/2020-05-31-Visualising-PUBG-Deaths-With-Datashader/erangel.jpg)"
   ]
  },
  {
   "cell_type": "markdown",
   "metadata": {},
   "source": [
    "## Miramar\n",
    "\n",
    "1. Early Phase (0-10m) (Lime Green points)\n",
    "2. Mid Phase (10-25m) (Cyan points)\n",
    "3. Late Phase (>25m) (Purple points)"
   ]
  },
  {
   "cell_type": "code",
   "execution_count": 9,
   "metadata": {},
   "outputs": [
    {
     "name": "stdout",
     "output_type": "stream",
     "text": [
      "Total points : 11622838\n"
     ]
    }
   ],
   "source": [
    "miramar_df = deaths_df[deaths_df.map=='MIRAMAR']\n",
    "\n",
    "num_points = miramar_df.shape[0]\n",
    "print(f'Total points : {num_points}')\n",
    "\n",
    "img = visualise_with_datashader(miramar_df)\n",
    "ds.utils.export_image(img=img,filename='Miramar', fmt=\".png\");"
   ]
  },
  {
   "cell_type": "markdown",
   "metadata": {},
   "source": [
    "![Erangel](../images/2020-05-31-Visualising-PUBG-Deaths-With-Datashader/Miramar_Shaded.jpg)\n",
    "![Miramar](../images/2020-05-31-Visualising-PUBG-Deaths-With-Datashader/miramar.jpg)"
   ]
  },
  {
   "cell_type": "markdown",
   "metadata": {},
   "source": [
    "## Analysis\n",
    "\n",
    "Let's finish by taking a closer look at the lower part of the Erangel map.\n",
    "\n",
    "We can see three different phases of the game, the early phase in green, the mid-phase in cyan, and the later phase in purple.\n",
    "\n",
    "I will confess to having played a grand total of 2 games of PUBG before deciding that playing virtual hide and seek wasn't that fun. Hence, I'm not an expert, but we can see some clear patterns.\n",
    "\n",
    "In the early phases of the game, deaths are in and around buildings as players search for supplies and weapons. \n",
    "\n",
    "In the middle phase, the deaths appear to be more spread over the map, with concentrations on roads and natural chokepoints like bridges.\n",
    "\n",
    "In the last phase of the game, the decreasing size of the \"safe zone\" forces the players into a concentrated area for a final stand. This results in the constellation of purple dots spread across the map.\n"
   ]
  },
  {
   "cell_type": "markdown",
   "metadata": {},
   "source": [
    "#### Erangel subsection 1\n",
    "![Subsection of Erangel 1](../images/2020-05-31-Visualising-PUBG-Deaths-With-Datashader/Subsection1.jpg)\n",
    "\n",
    "#### Erangel subsection 2\n",
    "![Subsection of Erangel 2](../images/2020-05-31-Visualising-PUBG-Deaths-With-Datashader/Subsection2.jpg)\n",
    "\n",
    "#### Miramar subsection\n",
    "![Subsection of Miramar](../images/2020-05-31-Visualising-PUBG-Deaths-With-Datashader/Subsection3.jpg)"
   ]
  }
 ],
 "metadata": {
  "kernelspec": {
   "display_name": "PyMC3",
   "language": "python",
   "name": "pymc3"
  },
  "language_info": {
   "codemirror_mode": {
    "name": "ipython",
    "version": 3
   },
   "file_extension": ".py",
   "mimetype": "text/x-python",
   "name": "python",
   "nbconvert_exporter": "python",
   "pygments_lexer": "ipython3",
   "version": "3.9.2"
  }
 },
 "nbformat": 4,
 "nbformat_minor": 2
}
