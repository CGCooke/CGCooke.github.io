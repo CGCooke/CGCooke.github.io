{
 "cells": [
  {
   "cell_type": "raw",
   "metadata": {},
   "source": [
    "---\n",
    "aliases:\n",
    "- /PyMC3/2021/04/30/The-Gold-Standard-Redux\n",
    "badges: true\n",
    "categories:\n",
    "- PyMC3\n",
    "date: '2021-04-30'\n",
    "description: Can we use bayesian analysis to compute the relative effectiveness of\n",
    "  Hotel Quarantine programmes?\n",
    "image: images/2021-02-15-The-Gold-Standard/header.png\n",
    "output-file: 2021-04-30-the-gold-standard-redux.html\n",
    "title: The Gold Standard Redux\n",
    "toc: true\n",
    "\n",
    "---\n",
    "\n"
   ]
  },
  {
   "cell_type": "markdown",
   "metadata": {},
   "source": [
    "## The Context\n",
    "\n",
    "Australia has adopted an isolationist policy in response to the global coronavirus pandemic. Upon arriving in Australia, passengers are isolated in designated hotels for at least 14 days. While this process is highly effective, leaks can and do occur. Fortunately, these are regularly brought under control with effective contact tracing.\n",
    "\n",
    "I had previously written a post applying MCMC to infer & estimate the effectiveness of different quarantine programmes. I'm using the same method in this post, building on top of the data provided in [this](https://www.medrxiv.org/content/10.1101/2021.02.17.21251946v2.full.pdf) paper.\n",
    "\n",
    "\n",
    "\n",
    "## The Model\n",
    "\n",
    "We can build a simple but effective model by treating the number of leaks as a *binomial* variable.\n",
    "\n",
    "We can then infer the probability each processed person results in a leak based on the number of people processed and the number of leaks observed.\n",
    "\n",
    "We need to provide a prior estimate for the probability of processing any one person resulting in a leak. We could guess that 1% of people returning have covid, and 1% of them will result in a leak, for a *probability of leak* of 0.0001. This seems like a reasonable assumption, and to encode it; I will use a beta distribution. \n",
    "\n",
    "What is the impact of using a more informed prior than when I last looked at this problem?\n",
    "\n",
    "Well, in the case where we have less data, for example, in the case of ACT & Tasmania, we will end up with a smaller posterior estimate because we have used a more informed prior.\n",
    "\n",
    "There will be little change in the case of other states/territories and countries, like NZ & NSW. The data will drown out our choice of prior.\n"
   ]
  },
  {
   "cell_type": "code",
   "execution_count": 1,
   "metadata": {},
   "outputs": [],
   "source": [
    "import pymc3 as pm\n",
    "import matplotlib.pyplot as plt\n",
    "import seaborn as sns\n",
    "import pandas as pd\n",
    "\n",
    "plt.rcParams[\"figure.figsize\"] = (20,20)\n",
    "from warnings import filterwarnings\n",
    "filterwarnings('ignore')"
   ]
  },
  {
   "cell_type": "markdown",
   "metadata": {},
   "source": [
    "Let's create a pandas dataframe containing the data from the paper."
   ]
  },
  {
   "cell_type": "code",
   "execution_count": 2,
   "metadata": {},
   "outputs": [
    {
     "data": {
      "text/html": [
       "<div>\n",
       "<style scoped>\n",
       "    .dataframe tbody tr th:only-of-type {\n",
       "        vertical-align: middle;\n",
       "    }\n",
       "\n",
       "    .dataframe tbody tr th {\n",
       "        vertical-align: top;\n",
       "    }\n",
       "\n",
       "    .dataframe thead th {\n",
       "        text-align: right;\n",
       "    }\n",
       "</style>\n",
       "<table border=\"1\" class=\"dataframe\">\n",
       "  <thead>\n",
       "    <tr style=\"text-align: right;\">\n",
       "      <th></th>\n",
       "      <th>State</th>\n",
       "      <th>number_of_people_processed</th>\n",
       "      <th>number_of_leaks_observed</th>\n",
       "      <th>cases_identified_in_quarantine</th>\n",
       "    </tr>\n",
       "  </thead>\n",
       "  <tbody>\n",
       "    <tr>\n",
       "      <th>0</th>\n",
       "      <td>NZ</td>\n",
       "      <td>127730</td>\n",
       "      <td>10</td>\n",
       "      <td>758</td>\n",
       "    </tr>\n",
       "    <tr>\n",
       "      <th>1</th>\n",
       "      <td>ACT</td>\n",
       "      <td>765</td>\n",
       "      <td>0</td>\n",
       "      <td>25</td>\n",
       "    </tr>\n",
       "    <tr>\n",
       "      <th>2</th>\n",
       "      <td>QLD</td>\n",
       "      <td>40896</td>\n",
       "      <td>3</td>\n",
       "      <td>583</td>\n",
       "    </tr>\n",
       "    <tr>\n",
       "      <th>3</th>\n",
       "      <td>NSW</td>\n",
       "      <td>128646</td>\n",
       "      <td>3</td>\n",
       "      <td>1581</td>\n",
       "    </tr>\n",
       "    <tr>\n",
       "      <th>4</th>\n",
       "      <td>NT</td>\n",
       "      <td>9180</td>\n",
       "      <td>0</td>\n",
       "      <td>88</td>\n",
       "    </tr>\n",
       "    <tr>\n",
       "      <th>5</th>\n",
       "      <td>SA</td>\n",
       "      <td>13023</td>\n",
       "      <td>1</td>\n",
       "      <td>230</td>\n",
       "    </tr>\n",
       "    <tr>\n",
       "      <th>6</th>\n",
       "      <td>TAS</td>\n",
       "      <td>405</td>\n",
       "      <td>0</td>\n",
       "      <td>21</td>\n",
       "    </tr>\n",
       "    <tr>\n",
       "      <th>7</th>\n",
       "      <td>VIC</td>\n",
       "      <td>33300</td>\n",
       "      <td>4</td>\n",
       "      <td>462</td>\n",
       "    </tr>\n",
       "    <tr>\n",
       "      <th>8</th>\n",
       "      <td>WA</td>\n",
       "      <td>29383</td>\n",
       "      <td>1</td>\n",
       "      <td>450</td>\n",
       "    </tr>\n",
       "  </tbody>\n",
       "</table>\n",
       "</div>"
      ],
      "text/plain": [
       "  State  number_of_people_processed  number_of_leaks_observed  \\\n",
       "0    NZ                      127730                        10   \n",
       "1   ACT                         765                         0   \n",
       "2   QLD                       40896                         3   \n",
       "3   NSW                      128646                         3   \n",
       "4    NT                        9180                         0   \n",
       "5    SA                       13023                         1   \n",
       "6   TAS                         405                         0   \n",
       "7   VIC                       33300                         4   \n",
       "8    WA                       29383                         1   \n",
       "\n",
       "   cases_identified_in_quarantine  \n",
       "0                             758  \n",
       "1                              25  \n",
       "2                             583  \n",
       "3                            1581  \n",
       "4                              88  \n",
       "5                             230  \n",
       "6                              21  \n",
       "7                             462  \n",
       "8                             450  "
      ]
     },
     "metadata": {},
     "output_type": "display_data"
    }
   ],
   "source": [
    "states = ['NZ','ACT','QLD','NSW','NT','SA','TAS','VIC','WA']\n",
    "number_of_people_processed = [127_730,765,40_896,128_646,9_180, 13_023, 405, 33_300, 29_383, ]\n",
    "number_of_leaks_observed = [10, 0, 3, 3, 0, 1, 0, 4, 1]\n",
    "cases_identified_in_quarantine = [758, 25, 583, 1_581, 88, 230, 21, 462, 450]\n",
    "data = {'State':states,'number_of_people_processed':number_of_people_processed, 'number_of_leaks_observed':number_of_leaks_observed, 'cases_identified_in_quarantine':cases_identified_in_quarantine}\n",
    "data_df =  pd.DataFrame.from_dict(data)\n",
    "\n",
    "display(data_df)"
   ]
  },
  {
   "cell_type": "code",
   "execution_count": 3,
   "metadata": {},
   "outputs": [
    {
     "name": "stderr",
     "output_type": "stream",
     "text": [
      "Auto-assigning NUTS sampler...\n",
      "Initializing NUTS using jitter+adapt_diag...\n",
      "Multiprocess sampling (2 chains in 4 jobs)\n",
      "NUTS: [prob_of_leak]\n"
     ]
    },
    {
     "data": {
      "text/html": [
       "\n",
       "    <div>\n",
       "        <style>\n",
       "            /* Turns off some styling */\n",
       "            progress {\n",
       "                /* gets rid of default border in Firefox and Opera. */\n",
       "                border: none;\n",
       "                /* Needs to be in here for Safari polyfill so background images work as expected. */\n",
       "                background-size: auto;\n",
       "            }\n",
       "            .progress-bar-interrupted, .progress-bar-interrupted::-webkit-progress-bar {\n",
       "                background: #F44336;\n",
       "            }\n",
       "        </style>\n",
       "      <progress value='12000' class='' max='12000' style='width:300px; height:20px; vertical-align: middle;'></progress>\n",
       "      100.00% [12000/12000 00:05<00:00 Sampling 2 chains, 1 divergences]\n",
       "    </div>\n",
       "    "
      ],
      "text/plain": [
       "<IPython.core.display.HTML object>"
      ]
     },
     "metadata": {},
     "output_type": "display_data"
    },
    {
     "name": "stderr",
     "output_type": "stream",
     "text": [
      "Sampling 2 chains for 5_000 tune and 1_000 draw iterations (10_000 + 2_000 draws total) took 10 seconds.\n",
      "There was 1 divergence after tuning. Increase `target_accept` or reparameterize.\n"
     ]
    }
   ],
   "source": [
    "num_chains = 2\n",
    "num_samples = 1_000\n",
    "with pm.Model() as leak_model: \n",
    "    #Set up our model\n",
    "    prob_of_leak = pm.Beta('prob_of_leak',alpha=1,beta=10_000, shape=9)  \n",
    "    number_of_leaks = pm.Binomial('number_of_leaks', n = data_df.number_of_people_processed, p = prob_of_leak, observed = data_df.number_of_leaks_observed)\n",
    "    trace = pm.sample(draws = num_samples,chains=num_chains, tune=5_000)"
   ]
  },
  {
   "cell_type": "code",
   "execution_count": 4,
   "metadata": {},
   "outputs": [],
   "source": [
    "state_col = []\n",
    "prob_of_leak_col = []\n",
    "for i in range(0,9):\n",
    "    state = states[i]\n",
    "    prob_of_leak = trace.prob_of_leak[:,i]\n",
    "    state_col += num_chains*num_samples*[state]\n",
    "    prob_of_leak_col += list(prob_of_leak)\n",
    "\n",
    "data = {'State':state_col,'prob_of_leak':prob_of_leak_col}\n",
    "df =  pd.DataFrame.from_dict(data)"
   ]
  },
  {
   "cell_type": "code",
   "execution_count": 60,
   "metadata": {
    "scrolled": false
   },
   "outputs": [
    {
     "data": {
      "image/png": "[encoded data removed]",
      "text/plain": [
       "<Figure size 1080x720 with 1 Axes>"
      ]
     },
     "metadata": {},
     "output_type": "display_data"
    }
   ],
   "source": [
    "new_order = df.groupby(by=[\"State\"])[\"prob_of_leak\"].median().sort_values().index\n",
    "\n",
    "#Visualise the data.\n",
    "sns.set_theme(style=\"ticks\")\n",
    "f, ax = plt.subplots(figsize=(15, 10))\n",
    "ax.set_xscale(\"log\")\n",
    "\n",
    "sns.boxplot(x=\"prob_of_leak\", y=\"State\", data=df, order = new_order, whis=[5, 95], width=0.7,\n",
    "            palette=\"vlag\", flierprops = dict(markerfacecolor = '0.0', markersize = 0.1))\n",
    "\n",
    "\n",
    "# Tweak the visual presentation\n",
    "ax.xaxis.grid(True)\n",
    "ax.set(ylabel=\"\")\n",
    "ax.set(xlabel=\"Probability of failure per person processed\")\n",
    "ax.set_xlim(1*10**-5, 2* 10**-4)\n",
    "ax.set(title=\"Comparative probablity of failure by system\");"
   ]
  }
 ],
 "metadata": {
  "kernelspec": {
   "display_name": "PyMC3",
   "language": "python",
   "name": "pymc3"
  },
  "language_info": {
   "codemirror_mode": {
    "name": "ipython",
    "version": 3
   },
   "file_extension": ".py",
   "mimetype": "text/x-python",
   "name": "python",
   "nbconvert_exporter": "python",
   "pygments_lexer": "ipython3",
   "version": "3.9.2"
  }
 },
 "nbformat": 4,
 "nbformat_minor": 4
}
