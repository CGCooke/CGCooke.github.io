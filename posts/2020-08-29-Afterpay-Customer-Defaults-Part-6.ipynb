{
 "cells": [
  {
   "cell_type": "raw",
   "metadata": {},
   "source": [
    "---\n",
    "aliases:\n",
    "- /Afterpay/Bayesian/Finance/Monte Carlo Simulation/PyMC3/2020/08/29/Afterpay-Customer-Defaults-Part-6\n",
    "badges: true\n",
    "categories:\n",
    "- Bayesian\n",
    "- PyMC3\n",
    "- Finance\n",
    "- Monte Carlo Simulation\n",
    "- Afterpay\n",
    "date: '2020-08-29'\n",
    "description: I want to take a step back and discuss what we have learned so far and\n",
    "  what I think the next steps could be.\n",
    "image: images/2020-08-29-Afterpay-Customer-Defaults-Part-6/header.png\n",
    "output-file: 2020-08-29-afterpay-customer-defaults-part-6.html\n",
    "title: How often do Afterpay's customer's default? (Part 6)\n",
    "toc: true\n",
    "\n",
    "---\n",
    "\n"
   ]
  },
  {
   "attachments": {},
   "cell_type": "markdown",
   "metadata": {},
   "source": [
    ":::{.callout-important}\n",
    "\n",
    "Obviously, I need a disclaimer. If you use anything I say as the basis for any decision, financial or otherwise, you are an idiot.\n",
    "\n",
    ":::\n",
    "\n",
    "\n",
    "## Raison d'être\n",
    "\n",
    "\"Buy Now, Pay Later\" (BNPL) service providers like *Afterpay* have stormed onto the scene, attracting the attention of both consumers as well as investors. \n",
    "\n",
    "I'm intrigued by *Afterpay*. A cohort of consumers may require the cost of a purchase to be spread over eight weeks to afford it. However, I need to see the attraction for most creditworthy customers. Unless *Afterpay* dramatically allows me to buy shares, I'm not interested.\n",
    "\n",
    "However, because I don't see the value doesn't mean that other people might adopt and love the product. Millions of people in Australia and overseas regularly use *Afterpay*. \n",
    "\n",
    "\n",
    "All things being equal, I can see the consumer benefits of *Afterpay*vs vs. other more classical forms of consumer credit (Credit cards, payday loans etc.). However, *Afterpay*'s customers don't live in a vacuum, and some cohort of their customers may be using a medley of products and services to finance their lifestyle. \n",
    "\n",
    "I wanted to dig deeper and disentangle what was happening unobserved beneath the surface. *Afterpay* must protect its brand image, so I understand why *Afterpay* might prefer to talk highly about adverse outcomes. However, these things exist outside the reality of what *Afterpay* reports to the ASX and outside my focus.\n",
    "\n",
    "My goal is to try and reconstruct the most transparent picture possible, even though the officially published information forces us to look through a glass darkly.\n",
    "\n",
    "\n",
    "## What are the numbers?\n",
    "\n",
    "1. Approximately 10% of purchases incur a late fee[*](https://www.afterpay.com/attachment/245/show_).\n",
    "1. If you are late on one payment, there is a moderate chance that you will be late on at least one of the other 3 (Roughly 20%)[*](https://cgcooke.github.io/Blog/bayesian/pymc3/finance/monte%20carlo%20simulation/afterpay/2020/08/22/Afterpay-Customer-Defaults-Part-3.html).\n",
    "3. Late fees are 12-14 AUD on average[*](https://cgcooke.github.io/Blog/bayesian/pymc3/finance/monte%20carlo%20simulation/afterpay/2020/08/29/Afterpay-Customer-Defaults-Part-5.html#Results).\n",
    "\n",
    "Altogether, this is interesting and brings a lot of clarity to any discussion around *Afterpay* and late fees. However, what we are seeing are these numbers in isolation. We will never know what trade-offs someone may have made to pay *Afterpay* one time.\n",
    "\n",
    "## Next steps\n",
    "\n",
    "Now that we have a clearer picture of late fees, I want to focus on defaults. I'm interested in how often people walk away. This is a topic where *Afterpay* needs to provide more information apart from a headline of losses. Hence, I think any clarity would be valuable in helping us understand *Afterpay*and its impact on society for better or worse."
   ]
  }
 ],
 "metadata": {
  "kernelspec": {
   "display_name": "PyMC3",
   "language": "python",
   "name": "pymc3"
  }
 },
 "nbformat": 4,
 "nbformat_minor": 2
}
