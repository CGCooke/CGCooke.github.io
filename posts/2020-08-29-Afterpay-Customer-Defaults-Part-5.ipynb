{
 "cells": [
  {
   "cell_type": "raw",
   "metadata": {},
   "source": [
    "---\n",
    "aliases:\n",
    "- /Afterpay/Bayesian/Finance/Monte Carlo Simulation/PyMC3/2020/08/29/Afterpay-Customer-Defaults-Part-5\n",
    "badges: true\n",
    "categories:\n",
    "- Bayesian\n",
    "- PyMC3\n",
    "- Finance\n",
    "- Monte Carlo Simulation\n",
    "- Afterpay\n",
    "date: '2020-08-29'\n",
    "description: Let's take a high-level view of how often Afterpay customers pay late,\n",
    "  based on Afterpay's FY2019 Annual report.\n",
    "image: images/2020-08-29-Afterpay-Customer-Defaults-Part-5/header.png\n",
    "output-file: 2020-08-29-afterpay-customer-defaults-part-5.html\n",
    "title: How often do Afterpay transactions attract late fees? (Part 5)\n",
    "toc: true\n",
    "\n",
    "---\n",
    "\n"
   ]
  },
  {
   "attachments": {},
   "cell_type": "markdown",
   "metadata": {},
   "source": [
    "## Introduction\n",
    "\n",
    "Now that we have more data from *Afterpay*on the actual rate of purchases that attract late fees (±10%), I wanted to go back and compute the average late fees. This post is effectively an adaption of the work I did in [this](https://cgcooke.github.io/Blog/bayesian/pymc3/finance/monte%20carlo%20simulation/afterpay/2020/08/21/Afterpay-Customer-Defaults-Part-1.html) post.\n",
    "\n",
    ":::{.callout-important}\n",
    "\n",
    "Obviously, I need a disclaimer. If you use anything I say as the basis for any decision, financial or otherwise, you are an idiot.\n",
    "\n",
    ":::"
   ]
  },
  {
   "cell_type": "markdown",
   "metadata": {},
   "source": [
    "## Average Late Fees"
   ]
  },
  {
   "cell_type": "code",
   "execution_count": 1,
   "metadata": {
    "vscode": {
     "languageId": "python"
    }
   },
   "outputs": [],
   "source": [
    "%matplotlib inline\n",
    "import pymc3 as pm\n",
    "import matplotlib.pyplot as plt\n",
    "import numpy as np\n",
    "import math\n",
    "import seaborn as sns\n",
    "import scipy.stats as st\n",
    "\n",
    "plt.rcParams[\"figure.figsize\"] = (10,10)\n",
    "from warnings import filterwarnings\n",
    "filterwarnings('ignore')"
   ]
  },
  {
   "cell_type": "code",
   "execution_count": null,
   "metadata": {
    "vscode": {
     "languageId": "python"
    }
   },
   "outputs": [],
   "source": [
    "with pm.Model() as average_late_fee_model:\n",
    "    underlying_sales_aud = pm.Uniform('underlying_sales_aud', lower=5.24715*10**9, upper=5.247249*10**9)\n",
    "    \n",
    "    late_fees_rev_aud = pm.Uniform('late_fees_rev', lower=46.05 * 10**6, upper=46.149 * 10**6)\n",
    "    \n",
    "    average_transaction_value_aud = pm.Uniform('average_transaction_value', lower=144.50, upper=154.49)\n",
    "    \n",
    "    late_payment_rate = pm.Uniform('late_payment_rate',lower=9.5,upper=10.5)/100.0\n",
    "    \n",
    "    number_of_transactions = pm.Deterministic('number_of_transactions', underlying_sales_aud / average_transaction_value_aud)\n",
    "    \n",
    "    late_transactions = pm.Deterministic('late_transactions', late_payment_rate * number_of_transactions)\n",
    "                                         \n",
    "    average_late_fee_aud = pm.Deterministic('average_late_fee_aud', late_fees_rev_aud / late_transactions)\n",
    "    \n",
    "pm.model_to_graphviz(model)\n",
    "\n",
    "with average_late_fee_model:\n",
    "    samples = pm.sample_prior_predictive(samples = 100_000)      \n"
   ]
  },
  {
   "cell_type": "markdown",
   "metadata": {},
   "source": [
    "## Results"
   ]
  },
  {
   "cell_type": "code",
   "execution_count": 2,
   "metadata": {
    "vscode": {
     "languageId": "python"
    }
   },
   "outputs": [
    {
     "data": {
      "image/png": "[encoded data removed]",
      "text/plain": [
       "<Figure size 720x720 with 1 Axes>"
      ]
     },
     "metadata": {
      "needs_background": "light"
     },
     "output_type": "display_data"
    }
   ],
   "source": [
    "late_fee_samples = samples['average_late_fee_aud']\n",
    "plt.title('Histogram of late fees')\n",
    "plt.ylabel('Relative Frequency')\n",
    "plt.xlabel('Late fee (AUD)')\n",
    "sns.distplot(late_fee_samples,kde=False, norm_hist=True)\n",
    "plt.show()"
   ]
  },
  {
   "cell_type": "code",
   "execution_count": 3,
   "metadata": {
    "vscode": {
     "languageId": "python"
    }
   },
   "outputs": [
    {
     "name": "stderr",
     "output_type": "stream",
     "text": [
      "arviz.stats.stats_utils - WARNING - Shape validation failed: input_shape: (1, 100000), minimum_shape: (chains=2, draws=4)\n"
     ]
    },
    {
     "data": {
      "text/html": [
       "<div>\n",
       "<style scoped>\n",
       "    .dataframe tbody tr th:only-of-type {\n",
       "        vertical-align: middle;\n",
       "    }\n",
       "\n",
       "    .dataframe tbody tr th {\n",
       "        vertical-align: top;\n",
       "    }\n",
       "\n",
       "    .dataframe thead th {\n",
       "        text-align: right;\n",
       "    }\n",
       "</style>\n",
       "<table border=\"1\" class=\"dataframe\">\n",
       "  <thead>\n",
       "    <tr style=\"text-align: right;\">\n",
       "      <th></th>\n",
       "      <th>mean</th>\n",
       "      <th>sd</th>\n",
       "      <th>hpd_3%</th>\n",
       "      <th>hpd_97%</th>\n",
       "      <th>mcse_mean</th>\n",
       "      <th>mcse_sd</th>\n",
       "      <th>ess_mean</th>\n",
       "      <th>ess_sd</th>\n",
       "      <th>ess_bulk</th>\n",
       "      <th>ess_tail</th>\n",
       "      <th>r_hat</th>\n",
       "    </tr>\n",
       "  </thead>\n",
       "  <tbody>\n",
       "    <tr>\n",
       "      <th>x</th>\n",
       "      <td>13.146</td>\n",
       "      <td>0.458</td>\n",
       "      <td>12.313</td>\n",
       "      <td>13.982</td>\n",
       "      <td>0.001</td>\n",
       "      <td>0.001</td>\n",
       "      <td>99393.0</td>\n",
       "      <td>99393.0</td>\n",
       "      <td>99248.0</td>\n",
       "      <td>99302.0</td>\n",
       "      <td>NaN</td>\n",
       "    </tr>\n",
       "  </tbody>\n",
       "</table>\n",
       "</div>"
      ],
      "text/plain": [
       "     mean     sd  hpd_3%  hpd_97%  mcse_mean  mcse_sd  ess_mean   ess_sd  \\\n",
       "x  13.146  0.458  12.313   13.982      0.001    0.001   99393.0  99393.0   \n",
       "\n",
       "   ess_bulk  ess_tail  r_hat  \n",
       "x   99248.0   99302.0    NaN  "
      ]
     },
     "execution_count": 3,
     "metadata": {},
     "output_type": "execute_result"
    }
   ],
   "source": [
    "pm.summary(samples[\"average_late_fee_aud\"])"
   ]
  },
  {
   "cell_type": "markdown",
   "metadata": {},
   "source": [
    "## Conclusion"
   ]
  },
  {
   "attachments": {},
   "cell_type": "markdown",
   "metadata": {},
   "source": [
    "The late fees that *Afterpay* customers pay are low, somewhere between 12 AUD and 14 AUD on average. This fits what we observed in previous [posts](https://cgcooke.github.io/Blog/bayesian/pymc3/finance/monte%20carlo%20simulation/afterpay/2020/08/27/Afterpay-Customer-Defaults-Part-4.html#Conclusion), where customers were typically late on only one of the four payments. "
   ]
  },
  {
   "cell_type": "code",
   "execution_count": null,
   "metadata": {
    "vscode": {
     "languageId": "python"
    }
   },
   "outputs": [],
   "source": []
  }
 ],
 "metadata": {
  "kernelspec": {
   "display_name": "PyMC3",
   "language": "python",
   "name": "pymc3"
  }
 },
 "nbformat": 4,
 "nbformat_minor": 2
}
