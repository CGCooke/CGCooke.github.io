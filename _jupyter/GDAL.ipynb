{
 "cells": [
  {
   "cell_type": "code",
   "execution_count": null,
   "metadata": {},
   "outputs": [],
   "source": []
  },
  {
   "cell_type": "code",
   "execution_count": null,
   "metadata": {},
   "outputs": [],
   "source": [
    "fig = plt.figure()\n",
    "fig.set_size_inches(10, 10)\n",
    "ax = plt.Axes(fig, [0., 0., 1., 1.])\n",
    "ax.set_axis_off()\n",
    "fig.add_axes(ax)"
   ]
  },
  {
   "cell_type": "code",
   "execution_count": null,
   "metadata": {},
   "outputs": [],
   "source": [
    "plt.contour(DEM, levels,linewidths=0.2,colors='k')\n",
    "plt.imshow(DEM,cmap ='RdYlGn_r',origin='lower')\n",
    "plt.savefig('ContourMapTight.png',dpi=900)\n",
    "plt.close()"
   ]
  },
  {
   "cell_type": "code",
   "execution_count": null,
   "metadata": {},
   "outputs": [],
   "source": [
    "img  = np.asarray(Image.open('ContourMapTight.png'))"
   ]
  },
  {
   "cell_type": "code",
   "execution_count": null,
   "metadata": {},
   "outputs": [],
   "source": [
    "def arrayToRaster(array,fileName,EPSGCode,xMin,xMax,yMin,yMax,numBands):\n",
    "    xPixels = array.shape[1]  # number of pixels in x\n",
    "    yPixels = array.shape[0]  # number of pixels in y\n",
    "    pixelXSize =(xMax-xMin)/xPixels # size of the pixel in X direction     \n",
    "    pixelYSize = -(yMax-yMin)/yPixels # size of the pixel in Y direction\n",
    "\n",
    "    driver = gdal.GetDriverByName('GTiff')\n",
    "    dataset = driver.Create(fileName,xPixels,yPixels,numBands,gdal.GDT_Byte, options = [ 'PHOTOMETRIC=RGB' ])\n",
    "    dataset.SetGeoTransform((xMin,pixelXSize,0,yMax,0,pixelYSize))  \n",
    "\n",
    "    datasetSRS = osr.SpatialReference()\n",
    "    datasetSRS.ImportFromEPSG(EPSGCode)\n",
    "    dataset.SetProjection(datasetSRS.ExportToWkt())\n",
    "    \n",
    "    for i in range(0,numBands):\n",
    "        dataset.GetRasterBand(i+1).WriteArray(array[:,:,i])\n",
    "\n",
    "    dataset.FlushCache()  # Write to disk."
   ]
  },
  {
   "cell_type": "code",
   "execution_count": null,
   "metadata": {},
   "outputs": [],
   "source": [
    "EPSGCode = 4326\n",
    "numBands = 3\n",
    "arrayToRaster(img,'OUT.TIF',EPSGCode,np.min(xArray),np.max(xArray),np.min(yArray),np.max(yArray),numBands)"
   ]
  }
 ],
 "metadata": {
  "kernelspec": {
   "display_name": "Python [conda env:LiDAR]",
   "language": "python",
   "name": "conda-env-LiDAR-py"
  },
  "language_info": {
   "codemirror_mode": {
    "name": "ipython",
    "version": 3
   },
   "file_extension": ".py",
   "mimetype": "text/x-python",
   "name": "python",
   "nbconvert_exporter": "python",
   "pygments_lexer": "ipython3",
   "version": "3.6.6"
  }
 },
 "nbformat": 4,
 "nbformat_minor": 2
}
