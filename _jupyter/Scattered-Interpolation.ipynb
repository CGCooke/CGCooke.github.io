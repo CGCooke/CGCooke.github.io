{
 "cells": [
  {
   "cell_type": "markdown",
   "metadata": {},
   "source": [
    "Summary\n",
    "===============\n",
    "\n",
    "Geospatial data often comes in the forms of samples taken at different points, when this occours a common next step is interpolation. \n",
    "An example of this is Airbourne LiDAR, where a laser range finder is scanned over the ground underneath the aircraft. The produces a cloud of scattered points, and often the next step is build a Digital Elevation Model (DEM) from these scattered points.  There are a number of different options for interpolation in python, the correct choice of method is often task specific, so its good to have some options at your disposal."
   ]
  },
  {
   "cell_type": "markdown",
   "metadata": {},
   "source": [
    "The Data\n",
    "===============\n",
    "\n",
    "I've created a test dataset, by sampling randomly sampling the SRTM 90M DEM, the points can be found [here](https://www.dropbox.com/s/msds7t2ilb0lzb4/coordinates.csv?dl=0).\n",
    "\n",
    "Our first task is to import the libraries that we will need later."
   ]
  },
  {
   "cell_type": "code",
   "execution_count": 2,
   "metadata": {},
   "outputs": [],
   "source": [
    "import numpy as np\n",
    "from matplotlib.mlab import griddata\n",
    "import matplotlib.pyplot as plt\n",
    "from pyproj import Proj\n",
    "from scipy import interpolate"
   ]
  },
  {
   "cell_type": "markdown",
   "metadata": {},
   "source": [
    "We can quickly load the data from a csv using numpy's 'loadtext' function."
   ]
  },
  {
   "cell_type": "code",
   "execution_count": null,
   "metadata": {},
   "outputs": [],
   "source": [
    "xArray = np.loadtxt('coordinates.csv',delimiter=',',usecols=(0,))\n",
    "yArray = np.loadtxt('coordinates.csv',delimiter=',',usecols=(1,))\n",
    "heightArray = np.loadtxt('coordinates.csv',delimiter=',',usecols=(2,))"
   ]
  },
  {
   "cell_type": "code",
   "execution_count": null,
   "metadata": {},
   "outputs": [],
   "source": [
    "plt.scatter(xArray,yArray,c=heightArray,cmap ='RdYlGn_r',alpha=0.75)\n",
    "plt.title('Scatter Plot')\n",
    "plt.savefig('ScatterPlot.png')\n",
    "plt.close()"
   ]
  },
  {
   "cell_type": "markdown",
   "metadata": {},
   "source": [
    "Interpolation\n",
    "===============\n",
    "\n",
    "Ultimately, there is no universally correct choice of interpolation method to use. However it is useful to know the mechanics associated with going from scattered points to an interpolated array for a number of different methods. "
   ]
  },
  {
   "cell_type": "code",
   "execution_count": null,
   "metadata": {},
   "outputs": [],
   "source": [
    "numIndexes = 500\n",
    "xi = np.linspace(np.min(xArray), np.max(xArray),numIndexes)\n",
    "yi = np.linspace(np.min(yArray), np.max(yArray),numIndexes)"
   ]
  },
  {
   "cell_type": "markdown",
   "metadata": {},
   "source": [
    "The first method we can try is Delaunay triangulation, which can be found in matplotlib.mlab. "
   ]
  },
  {
   "cell_type": "code",
   "execution_count": null,
   "metadata": {},
   "outputs": [],
   "source": [
    "DEM = griddata(xArray, yArray, heightArray, xi, yi)"
   ]
  },
  {
   "cell_type": "markdown",
   "metadata": {},
   "source": [
    "Another option is linear interpolation, which can be performed using scipy.interpolate."
   ]
  },
  {
   "cell_type": "code",
   "execution_count": null,
   "metadata": {},
   "outputs": [],
   "source": [
    "XI, YI = np.meshgrid(xi, yi)\n",
    "points = np.vstack((xArray,yArray)).T\n",
    "values = np.asarray(heightArray)\n",
    "points = np.asarray(points)\n",
    "values = np.asarray(estimatedHeightList)\n",
    "DEM = interpolate.griddata(points, values, (XI,YI), method='linear')"
   ]
  },
  {
   "cell_type": "markdown",
   "metadata": {},
   "source": [
    "http://wiki.scipy.org/Cookbook/Matplotlib/Gridding_irregularly_spaced_data\n",
    "\n",
    "\"IDW is a terrible choice in almost every case. It assumes that all of your input data points are local minimums or maximums! I'm not sure at all people use it as a general interpolation technique... (Lots of people certainly do, though!)\""
   ]
  },
  {
   "cell_type": "markdown",
   "metadata": {},
   "source": [
    "Contour plots\n",
    "===============\n",
    "\n",
    "Contour plots are useful for visualzing Digital Elevation Models, Our first step is to create the contour lines, with a 25m contour interval as follows :\n"
   ]
  },
  {
   "cell_type": "code",
   "execution_count": null,
   "metadata": {},
   "outputs": [],
   "source": [
    "levels = np.arange(np.min(DEM),np.max(DEM),25)\n",
    "plt.contour(DEM, levels,linewidths=0.2,colors='k')"
   ]
  },
  {
   "cell_type": "markdown",
   "metadata": {},
   "source": [
    "We can map the array to an image using imshow, an alternative is to use plt.contourf, to \"fill in\" the contours."
   ]
  },
  {
   "cell_type": "code",
   "execution_count": null,
   "metadata": {},
   "outputs": [],
   "source": [
    "plt.imshow(DEM,cmap ='RdYlGn_r',origin='lower')\n",
    "plt.colorbar()"
   ]
  },
  {
   "cell_type": "markdown",
   "metadata": {},
   "source": [
    "In this case, it is also useful to draw the location of each point. \n",
    "We first need to normalize the points to be in the range [0-1]."
   ]
  },
  {
   "cell_type": "code",
   "execution_count": null,
   "metadata": {},
   "outputs": [],
   "source": [
    "xArrayNormalized=xArray/(np.max(xArray)-np.min(xArray))\n",
    "xArrayNormalized-=np.min(xArrayNormalized)\n",
    "yArrayNormalized=yArray/(np.max(yArray)-np.min(yArray))\n",
    "yArrayNormalized-=np.min(yArrayNormalized)\n",
    "plt.scatter(numIndexes*xArrayNormalized,numIndexes*yArrayNormalized,color='k',alpha=0.25)"
   ]
  },
  {
   "cell_type": "markdown",
   "metadata": {},
   "source": [
    "Finally we can save the plot,"
   ]
  },
  {
   "cell_type": "code",
   "execution_count": null,
   "metadata": {},
   "outputs": [],
   "source": [
    "plt.title('Height in meters')\n",
    "plt.savefig('ContourMap.png',dpi=900)\n",
    "plt.close()"
   ]
  }
 ],
 "metadata": {
  "kernelspec": {
   "display_name": "Python [conda env:LiDAR]",
   "language": "python",
   "name": "conda-env-LiDAR-py"
  },
  "language_info": {
   "codemirror_mode": {
    "name": "ipython",
    "version": 3
   },
   "file_extension": ".py",
   "mimetype": "text/x-python",
   "name": "python",
   "nbconvert_exporter": "python",
   "pygments_lexer": "ipython3",
   "version": "3.6.6"
  }
 },
 "nbformat": 4,
 "nbformat_minor": 2
}
