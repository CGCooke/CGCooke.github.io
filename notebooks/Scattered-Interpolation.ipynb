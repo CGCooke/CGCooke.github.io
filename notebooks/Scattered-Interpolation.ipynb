{
 "cells": [
  {
   "cell_type": "code",
   "execution_count": null,
   "metadata": {},
   "outputs": [],
   "source": [
    "import numpy as np\n",
    "from matplotlib.mlab import griddata\n",
    "import matplotlib.pyplot as plt\n",
    "from pyproj import Proj\n",
    "from scipy import interpolate"
   ]
  },
  {
   "cell_type": "code",
   "execution_count": null,
   "metadata": {},
   "outputs": [],
   "source": [
    "xArray = np.loadtxt('coordinates.csv',delimiter=',',usecols=(0,))\n",
    "yArray = np.loadtxt('coordinates.csv',delimiter=',',usecols=(1,))\n",
    "heightArray = np.loadtxt('coordinates.csv',delimiter=',',usecols=(2,))"
   ]
  },
  {
   "cell_type": "code",
   "execution_count": null,
   "metadata": {},
   "outputs": [],
   "source": [
    "plt.scatter(xArray,yArray,c=heightArray,cmap ='RdYlGn_r',alpha=0.75)\n",
    "plt.title('Scatter Plot')\n",
    "plt.savefig('ScatterPlot.png')\n",
    "plt.close()"
   ]
  },
  {
   "cell_type": "code",
   "execution_count": null,
   "metadata": {},
   "outputs": [],
   "source": [
    "numIndexes = 500\n",
    "xi = np.linspace(np.min(xArray), np.max(xArray),numIndexes)\n",
    "yi = np.linspace(np.min(yArray), np.max(yArray),numIndexes)"
   ]
  },
  {
   "cell_type": "code",
   "execution_count": null,
   "metadata": {},
   "outputs": [],
   "source": [
    "DEM = griddata(xArray, yArray, heightArray, xi, yi)"
   ]
  },
  {
   "cell_type": "code",
   "execution_count": null,
   "metadata": {},
   "outputs": [],
   "source": [
    "XI, YI = np.meshgrid(xi, yi)\n",
    "points = np.vstack((xArray,yArray)).T\n",
    "values = np.asarray(heightArray)\n",
    "points = np.asarray(points)\n",
    "values = np.asarray(estimatedHeightList)\n",
    "DEM = interpolate.griddata(points, values, (XI,YI), method='linear')"
   ]
  },
  {
   "cell_type": "code",
   "execution_count": null,
   "metadata": {},
   "outputs": [],
   "source": [
    "levels = np.arange(np.min(DEM),np.max(DEM),25)\n",
    "plt.contour(DEM, levels,linewidths=0.2,colors='k')\n"
   ]
  },
  {
   "cell_type": "code",
   "execution_count": null,
   "metadata": {},
   "outputs": [],
   "source": [
    "plt.imshow(DEM,cmap ='RdYlGn_r',origin='lower')\n",
    "plt.colorbar()\n"
   ]
  },
  {
   "cell_type": "code",
   "execution_count": null,
   "metadata": {},
   "outputs": [],
   "source": [
    "xArrayNormalized=xArray/(np.max(xArray)-np.min(xArray))\n",
    "xArrayNormalized-=np.min(xArrayNormalized)\n",
    "yArrayNormalized=yArray/(np.max(yArray)-np.min(yArray))\n",
    "yArrayNormalized-=np.min(yArrayNormalized)\n",
    "plt.scatter(numIndexes*xArrayNormalized,numIndexes*yArrayNormalized,color='k',alpha=0.25)"
   ]
  },
  {
   "cell_type": "code",
   "execution_count": null,
   "metadata": {},
   "outputs": [],
   "source": [
    "plt.title('Height in meters')\n",
    "plt.savefig('ContourMap.png',dpi=900)\n",
    "plt.close()\n"
   ]
  }
 ],
 "metadata": {
  "kernelspec": {
   "display_name": "Python [conda env:LiDAR]",
   "language": "python",
   "name": "conda-env-LiDAR-py"
  },
  "language_info": {
   "codemirror_mode": {
    "name": "ipython",
    "version": 3
   },
   "file_extension": ".py",
   "mimetype": "text/x-python",
   "name": "python",
   "nbconvert_exporter": "python",
   "pygments_lexer": "ipython3",
   "version": "3.6.6"
  }
 },
 "nbformat": 4,
 "nbformat_minor": 2
}
